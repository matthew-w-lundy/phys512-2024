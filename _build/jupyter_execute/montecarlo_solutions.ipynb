{
 "cells": [
  {
   "cell_type": "markdown",
   "id": "6d46a72f",
   "metadata": {},
   "source": [
    "# Monte Carlo Integration"
   ]
  },
  {
   "cell_type": "markdown",
   "id": "f71e7eb4",
   "metadata": {},
   "source": [
    "Integrate $\\exp(-|x^3|)$ from $0$ to $\\infty$."
   ]
  },
  {
   "cell_type": "code",
   "execution_count": 1,
   "id": "b53886bb",
   "metadata": {},
   "outputs": [],
   "source": [
    "import numpy as np\n",
    "import matplotlib.pyplot as plt\n",
    "import scipy.integrate\n",
    "\n",
    "seed = 239\n",
    "rng = np.random.default_rng(seed)"
   ]
  },
  {
   "cell_type": "code",
   "execution_count": 2,
   "id": "5582478b",
   "metadata": {},
   "outputs": [],
   "source": [
    "def integrate_MC(f, N, sampling = 'uniform'):\n",
    "\n",
    "    if sampling == 'gaussian':\n",
    "        # We need to normalize the Gaussian from 0 to infinity\n",
    "        p = lambda x: np.exp(-x**2/2) * np.sqrt(2/np.pi)\n",
    "        x = rng.normal(size = N)    \n",
    "    else:\n",
    "        # Generate x values between 0 and xmax\n",
    "        xmax = 10\n",
    "        p = lambda x: np.ones_like(x) / xmax\n",
    "        x = xmax*rng.uniform(size = N)\n",
    "    \n",
    "    # use np.mean to calculate the integral as an alternative to np.sum()/N\n",
    "    # also return the error in the mean, which is an error estimate for the integral\n",
    "    return np.mean(f(x)/p(x)), np.std(f(x)/p(x))/np.sqrt(N)"
   ]
  },
  {
   "cell_type": "code",
   "execution_count": 3,
   "id": "5c39e032",
   "metadata": {
    "scrolled": false
   },
   "outputs": [
    {
     "name": "stdout",
     "output_type": "stream",
     "text": [
      "Integral from scipy.quad = 0.89298 with error 2.74557e-09 (135 function evaluations)\n"
     ]
    },
    {
     "name": "stdout",
     "output_type": "stream",
     "text": [
      "Uniform: I = 0.892213 +- 0.0250663; frac err = 0.0280945; error estimate = 0.0252115\n",
      "Gaussian: I = 0.892925 +- 0.00480104; frac err = 0.00537675; error estimate = 0.00464791\n"
     ]
    },
    {
     "data": {
      "image/png": "[encoded data removed]",
      "text/plain": [
       "<Figure size 640x480 with 1 Axes>"
      ]
     },
     "metadata": {},
     "output_type": "display_data"
    }
   ],
   "source": [
    "def f(x):\n",
    "    return np.exp(-np.abs(x**3))\n",
    "\n",
    "# Compute the integral using quad form comparison\n",
    "I0, err, info = scipy.integrate.quad(f, 0.0, np.inf, full_output = True)\n",
    "print(\"Integral from scipy.quad = %g with error %g (%d function evaluations)\" % \n",
    "      (I0, err, info['neval']))\n",
    "\n",
    "# Number of samples for the MC integration\n",
    "N = 10**4\n",
    "\n",
    "# Now do the integration 1000 times for both uniform and Gaussian\n",
    "n_trials = 1000\n",
    "I_arr = np.zeros(n_trials)\n",
    "I2_arr = np.zeros(n_trials)\n",
    "\n",
    "for i in range(n_trials):\n",
    "    I_arr[i], err = integrate_MC(f, N)\n",
    "    I2_arr[i], err2 = integrate_MC(f, N, sampling = 'gaussian')\n",
    "    \n",
    "I_mean = np.mean(I_arr)\n",
    "I_std = np.std(I_arr)\n",
    "print(\"Uniform: I = %g +- %g; frac err = %g; error estimate = %g\" % (I_mean, I_std, I_std/I_mean, err))\n",
    "\n",
    "I2_mean = np.mean(I2_arr)\n",
    "I2_std = np.std(I2_arr)\n",
    "print(\"Gaussian: I = %g +- %g; frac err = %g; error estimate = %g\" % (I2_mean, I2_std, I2_std/I2_mean, err2))\n",
    "\n",
    "counts, bins = np.histogram(I_arr, bins=10, density = True)\n",
    "plt.stairs(counts, bins)    \n",
    "counts, bins = np.histogram(I2_arr, bins=10, density = True)\n",
    "plt.stairs(counts, bins)\n",
    "plt.plot([I0, I0], (0,1.05*max(counts)), \":\")\n",
    "plt.ylim((0,1.05*max(counts)))\n",
    "plt.show()"
   ]
  },
  {
   "cell_type": "markdown",
   "id": "b2344769",
   "metadata": {},
   "source": [
    "Notes:\n",
    "\n",
    "- if you try different $N$ values, you'll see that the fractional error scales $\\propto 1/\\sqrt{N}$.\n",
    "\n",
    "- since our estimate for the integral is the mean value of the $N$ samples of $f(x)/p(x)$, another way to estimate the error in the integration is to calculate the error in the mean (or ``standard error''),\n",
    "\n",
    "$$\\sigma_I^2 = {1\\over N} \\mathrm{Var}(f) = {1\\over N} \\left( \\langle f^2\\rangle - \\langle f\\rangle^2\\right).$$\n",
    "\n",
    "The function `integrate_MC` in the code above does this by returning $\\sigma_I$ as `np.std(f(x)/p(x))/np.sqrt(N)`\n",
    "\n",
    "The values agree well with the standard deviation calculated from the histograms."
   ]
  },
  {
   "cell_type": "code",
   "execution_count": null,
   "id": "661d095e",
   "metadata": {},
   "outputs": [],
   "source": []
  }
 ],
 "metadata": {
  "kernelspec": {
   "display_name": "Python 3 (ipykernel)",
   "language": "python",
   "name": "python3"
  },
  "language_info": {
   "codemirror_mode": {
    "name": "ipython",
    "version": 3
   },
   "file_extension": ".py",
   "mimetype": "text/x-python",
   "name": "python",
   "nbconvert_exporter": "python",
   "pygments_lexer": "ipython3",
   "version": "3.10.10"
  }
 },
 "nbformat": 4,
 "nbformat_minor": 5
}